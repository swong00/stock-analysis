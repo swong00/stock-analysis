{
 "cells": [
  {
   "cell_type": "code",
   "execution_count": null,
   "metadata": {},
   "outputs": [],
   "source": [
    "import pandas as pd\n",
    "from os import walk\n",
    "import re\n",
    "\n",
    "data_dir = 'data'\n",
    "quarterly_valuation_measures = 'quarterly_valuation_measures'\n",
    "quarterly_income_statement = 'quarterly_financials'\n",
    "quarterly_cash_flow = 'quarterly_cash-flow'\n",
    "quarterly_balance_sheet = 'quarterly_balance-sheet'\n",
    "\n",
    "def get_stock_tickers(dir):\n",
    "\tfilenames = next(walk(dir), (None, None, []))[2]  # [] if no file\n",
    "\tfilenames = [re.sub('[_.].+$', '', f) for f in filenames if re.match('[A-Z]+_.+\\.csv', f)]\n",
    "\treturn list(set(filenames))\n",
    "\n",
    "def combine_financials(data_dir, stock, financials):\n",
    "\tdf = pd.concat([pd.read_csv('{}/{}_{}.csv'.format(data_dir, stock, financial)) for financial in financials])\n",
    "\tdf = df[df['name'].str.match('^\\t.*') == False]\n",
    "\tdf = df.replace({',': ''}, regex=True)\n",
    "\tdf = df.set_index('name').T\n",
    "\tfor col in df.columns:\n",
    "\t\tdf[col] = pd.to_numeric(df[col], errors='ignore')\n",
    "\tdf.reset_index(inplace=True)\n",
    "\tdf = df.rename(columns = {'index':'Quarter'})\n",
    "\treturn df\n",
    "\n",
    "def calculate_YoY(df):\n",
    "\tmeasures = [\n",
    "\t\t'InterestIncome',\n",
    "\t\t'NormalizedIncome',\n",
    "\t\t'DilutedNIAvailtoComStockholders',\n",
    "\t\t'NetIncomeCommonStockholders',\n",
    "\t\t'PretaxIncome',\n",
    "\t\t'TotalOperatingIncomeAsReported',\n",
    "\t\t'OperatingIncome',\n",
    "\t\t'EBIT',\n",
    "\t\t'FreeCashFlow',\n",
    "\t\t'NormalizedEBITDA',\n",
    "\t\t'EBITDA',\n",
    "\t\t'OperatingCashFlow',\n",
    "\t\t'OperatingExpense',\n",
    "\t\t'ReconciledCostOfRevenue',\n",
    "\t\t'CostOfRevenue',\n",
    "\t\t'GrossProfit',\n",
    "\t\t'EndCashPosition',\n",
    "\t\t'TotalExpenses',\n",
    "\t\t'TotalRevenue',\n",
    "\t\t'MarketCap',\n",
    "\t\t'EnterpriseValue'\n",
    "\t]\n",
    "\n",
    "\tfor m in measures:\n",
    "\t\tif m not in df.columns:\n",
    "\t\t\tcontinue\n",
    "\t\tdf[m + 'YoY'] = None\n",
    "\t\tfor i in range(1, len(df[m]) - 5):\n",
    "\t\t\tif not (pd.isna(df.at[i, m]) or pd.isna(df.at[i + 4, m]) or df.at[i + 4, m] == 0):\n",
    "\t\t\t\tdf.at[i, m + 'YoY'] = ((df.at[i, m] / df.at[i + 4, m]) - 1) * 100\n",
    "\treturn df\n"
   ]
  },
  {
   "cell_type": "code",
   "execution_count": null,
   "metadata": {},
   "outputs": [],
   "source": [
    "import pandas as pd\n",
    "\n",
    "today = '06/20/2022'\n",
    "quarterly_financials = [quarterly_valuation_measures, quarterly_income_statement, quarterly_balance_sheet, quarterly_cash_flow]\n",
    "\n",
    "all_df = pd.DataFrame()\n",
    "for stock in get_stock_tickers(data_dir):\n",
    "\tprint(stock)\n",
    "\tdf = combine_financials(data_dir, stock, quarterly_financials)\n",
    "\tdf = calculate_YoY(df)\n",
    "\tdf['Ticker'] = stock\n",
    "\tall_df = pd.concat([all_df, df], ignore_index=True)\n",
    "\n",
    "\tdf.to_csv('{}/{}_quarterly_combined.csv'.format(data_dir, stock), index=False)\n",
    "all_df.loc[all_df[\"Quarter\"] == \"ttm\", \"Quarter\"] = today\n",
    "all_df.to_csv('{}/all_quarterly_combined.csv'.format(data_dir), index=False)\n"
   ]
  },
  {
   "cell_type": "code",
   "execution_count": null,
   "metadata": {},
   "outputs": [],
   "source": [
    "stock = 'SQ'\n",
    "df = combine_financials(data_dir, stock, quarterly_financials)\n",
    "df = calculate_YoY(df)\n"
   ]
  },
  {
   "cell_type": "code",
   "execution_count": null,
   "metadata": {},
   "outputs": [],
   "source": [
    "measures = [\n",
    "\t# 'InterestIncome',\n",
    "\t# 'NormalizedIncome',\n",
    "\t# 'DilutedNIAvailtoComStockholders',\n",
    "\t# 'NetIncomeCommonStockholders',\n",
    "\t# 'PretaxIncome',\n",
    "\t# 'TotalOperatingIncomeAsReported',\n",
    "\t# 'OperatingIncome',\n",
    "\t# 'EBIT',\n",
    "\t# 'FreeCashFlow',\n",
    "\t# 'NormalizedEBITDA',\n",
    "\t# 'EBITDA',\n",
    "\t# 'OperatingCashFlow',\n",
    "\t# 'OperatingExpense',\n",
    "\t# 'ReconciledCostOfRevenue',\n",
    "\t# 'CostOfRevenue',\n",
    "\t# 'GrossProfit',\n",
    "\t# 'EndCashPosition',\n",
    "\t# 'TotalExpenses',\n",
    "\t'TotalRevenue',\n",
    "\t# 'MarketCap',\n",
    "\t# 'EnterpriseValue'\n",
    "]\n",
    "\n",
    "df2 = all_df[['Quarter', 'Ticker'] + measures + [x + 'YoY' for x in measures]]\n",
    "df2.to_csv('{}/all_test.csv'.format(data_dir), index=False)\n"
   ]
  }
 ],
 "metadata": {
  "kernelspec": {
   "display_name": "Python 3.8.5 ('base')",
   "language": "python",
   "name": "python3"
  },
  "language_info": {
   "codemirror_mode": {
    "name": "ipython",
    "version": 3
   },
   "file_extension": ".py",
   "mimetype": "text/x-python",
   "name": "python",
   "nbconvert_exporter": "python",
   "pygments_lexer": "ipython3",
   "version": "3.8.5"
  },
  "orig_nbformat": 4,
  "vscode": {
   "interpreter": {
    "hash": "ff50d91abd612de7623cee317b2df619e9be24c8398d88d71632d5e27173bf3e"
   }
  }
 },
 "nbformat": 4,
 "nbformat_minor": 2
}
